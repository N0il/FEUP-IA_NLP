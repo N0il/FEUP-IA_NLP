{
 "cells": [
  {
   "cell_type": "markdown",
   "metadata": {},
   "source": [
    "# Introduction\n",
    "\n",
    "In this project we were given a dataset consisting of statements and their emotions, our goal is to use different classifiers and prepreocessing methods from NLP to create models that are able to predict a sentence's associated emotion."
   ]
  },
  {
   "cell_type": "markdown",
   "metadata": {},
   "source": [
    "## Importing the Dataset\n",
    "\n",
    "We are importing our data from the res directory where the Emotions.csv and Testingdata.csv are located.\n",
    "\n",
    "They are a collection of frases similar to \"tweets\" and have been classified according to their associated emotion (\"joy\", \"fear\" or \"anger\")."
   ]
  },
  {
   "cell_type": "code",
   "execution_count": 157,
   "metadata": {},
   "outputs": [
    {
     "data": {
      "text/html": [
       "<div>\n",
       "<style scoped>\n",
       "    .dataframe tbody tr th:only-of-type {\n",
       "        vertical-align: middle;\n",
       "    }\n",
       "\n",
       "    .dataframe tbody tr th {\n",
       "        vertical-align: top;\n",
       "    }\n",
       "\n",
       "    .dataframe thead th {\n",
       "        text-align: right;\n",
       "    }\n",
       "</style>\n",
       "<table border=\"1\" class=\"dataframe\">\n",
       "  <thead>\n",
       "    <tr style=\"text-align: right;\">\n",
       "      <th></th>\n",
       "      <th>Statement</th>\n",
       "      <th>Emotion</th>\n",
       "    </tr>\n",
       "  </thead>\n",
       "  <tbody>\n",
       "    <tr>\n",
       "      <th>0</th>\n",
       "      <td>How the fu*k! Who the heck! moved my fridge!.....</td>\n",
       "      <td>anger</td>\n",
       "    </tr>\n",
       "    <tr>\n",
       "      <th>1</th>\n",
       "      <td>So my Indian Uber driver just called someone t...</td>\n",
       "      <td>anger</td>\n",
       "    </tr>\n",
       "    <tr>\n",
       "      <th>2</th>\n",
       "      <td>I asked for my parcel to be delivered to a pic...</td>\n",
       "      <td>anger</td>\n",
       "    </tr>\n",
       "    <tr>\n",
       "      <th>3</th>\n",
       "      <td>so ef whichever butt wipe pulled the fire alar...</td>\n",
       "      <td>anger</td>\n",
       "    </tr>\n",
       "    <tr>\n",
       "      <th>4</th>\n",
       "      <td>Don't join they put the phone down on you, tal...</td>\n",
       "      <td>anger</td>\n",
       "    </tr>\n",
       "  </tbody>\n",
       "</table>\n",
       "</div>"
      ],
      "text/plain": [
       "                                           Statement Emotion\n",
       "0  How the fu*k! Who the heck! moved my fridge!.....   anger\n",
       "1  So my Indian Uber driver just called someone t...   anger\n",
       "2  I asked for my parcel to be delivered to a pic...   anger\n",
       "3  so ef whichever butt wipe pulled the fire alar...   anger\n",
       "4  Don't join they put the phone down on you, tal...   anger"
      ]
     },
     "execution_count": 157,
     "metadata": {},
     "output_type": "execute_result"
    }
   ],
   "source": [
    "from sklearn.metrics import confusion_matrix\n",
    "from sklearn.metrics import accuracy_score\n",
    "from sklearn.metrics import precision_score\n",
    "from sklearn.metrics import recall_score\n",
    "from sklearn.metrics import f1_score\n",
    "import pandas as pd\n",
    "data_set_path = \"../res/Emotions.csv\"\n",
    "testing_set_path = \"../res/Testingdata.csv\"\n",
    "dataset = pd.read_csv(data_set_path, header=0, sep=\",\", names=[\"Statement\", \"Emotion\"], encoding='cp1252')\n",
    "testset = pd.read_csv(testing_set_path, header=0, sep=\",\", names=[\"Statement\", \"Emotion\"], encoding='cp1252')\n",
    "dataset.head()"
   ]
  },
  {
   "cell_type": "markdown",
   "metadata": {},
   "source": [
    "If you executed the last code block the program should show the first entries of the training dataset that we get from importing Emotions.csv.\n",
    "\n",
    "The following line of code displays some details obout the dataset we just imported."
   ]
  },
  {
   "cell_type": "code",
   "execution_count": 158,
   "metadata": {},
   "outputs": [
    {
     "data": {
      "text/html": [
       "<div>\n",
       "<style scoped>\n",
       "    .dataframe tbody tr th:only-of-type {\n",
       "        vertical-align: middle;\n",
       "    }\n",
       "\n",
       "    .dataframe tbody tr th {\n",
       "        vertical-align: top;\n",
       "    }\n",
       "\n",
       "    .dataframe thead th {\n",
       "        text-align: right;\n",
       "    }\n",
       "</style>\n",
       "<table border=\"1\" class=\"dataframe\">\n",
       "  <thead>\n",
       "    <tr style=\"text-align: right;\">\n",
       "      <th></th>\n",
       "      <th>Statement</th>\n",
       "      <th>Emotion</th>\n",
       "    </tr>\n",
       "  </thead>\n",
       "  <tbody>\n",
       "    <tr>\n",
       "      <th>count</th>\n",
       "      <td>2827</td>\n",
       "      <td>2827</td>\n",
       "    </tr>\n",
       "    <tr>\n",
       "      <th>unique</th>\n",
       "      <td>2772</td>\n",
       "      <td>3</td>\n",
       "    </tr>\n",
       "    <tr>\n",
       "      <th>top</th>\n",
       "      <td>Watch this amazing live.ly broadcast by #music...</td>\n",
       "      <td>fear</td>\n",
       "    </tr>\n",
       "    <tr>\n",
       "      <th>freq</th>\n",
       "      <td>26</td>\n",
       "      <td>1147</td>\n",
       "    </tr>\n",
       "  </tbody>\n",
       "</table>\n",
       "</div>"
      ],
      "text/plain": [
       "                                                Statement Emotion\n",
       "count                                                2827    2827\n",
       "unique                                               2772       3\n",
       "top     Watch this amazing live.ly broadcast by #music...    fear\n",
       "freq                                                   26    1147"
      ]
     },
     "execution_count": 158,
     "metadata": {},
     "output_type": "execute_result"
    }
   ],
   "source": [
    "dataset.describe()"
   ]
  },
  {
   "cell_type": "markdown",
   "metadata": {},
   "source": [
    "# Preprocessing\n",
    "\n",
    "To solve this NLP problem we will employ some stages of preprocessing on our data, namely Steaming and Tokenization.\n",
    "We then choose between two major preprocessing algorithms that we expected may give different results: BoW (Bag of Words) and TF-IDF (Term Frequency - Inverse Document Frequency)\n"
   ]
  },
  {
   "cell_type": "markdown",
   "metadata": {},
   "source": [
    "### Steaming and Tokenization\n",
    "\n",
    "In order ease the amount of processing the program must do we can apply some transformations to the text such as removing punctuation and other symbols, turn it all to lowercase, separating the text into tokens (separate by words), and removing stopwords (such as \"the\", \"a\", etc.)."
   ]
  },
  {
   "cell_type": "code",
   "execution_count": 205,
   "metadata": {},
   "outputs": [],
   "source": [
    "import re\n",
    "from nltk.corpus import stopwords\n",
    "from nltk.stem.porter import PorterStemmer\n",
    "\n",
    "corpus = []\n",
    "ps = PorterStemmer()\n",
    "for i in range(0, dataset['Statement'].size):\n",
    "    # get review and remove non alpha chars\n",
    "    review = re.sub('[^a-zA-Z]', ' ', dataset['Statement'][i])\n",
    "    # to lower-case\n",
    "    review = review.lower()\n",
    "    # split into tokens, apply stemming and remove stop words\n",
    "    review = ' '.join([ps.stem(w) for w in review.split() if not w in set(stopwords.words('english'))])\n",
    "    corpus.append(review)\n",
    "\n",
    "test_corpus = []\n",
    "ps = PorterStemmer()\n",
    "for i in range(0, testset['Statement'].size):\n",
    "    # get review and remove non alpha chars\n",
    "    review = re.sub('[^a-zA-Z]', ' ', testset['Statement'][i])\n",
    "    # to lower-case\n",
    "    review = review.lower()\n",
    "    # split into tokens, apply stemming and remove stop words\n",
    "    review = ' '.join([ps.stem(w) for w in review.split() if not w in set(stopwords.words('english'))])\n",
    "    test_corpus.append(review)\n",
    "\n"
   ]
  },
  {
   "cell_type": "markdown",
   "metadata": {},
   "source": [
    "The following code shows us a visual representation of the frequency in which each word present in the dataset appears."
   ]
  },
  {
   "cell_type": "code",
   "execution_count": 160,
   "metadata": {},
   "outputs": [
    {
     "data": {
      "image/png": "[encoded data removed]",
      "text/plain": [
       "<Figure size 432x288 with 1 Axes>"
      ]
     },
     "metadata": {
      "needs_background": "light"
     },
     "output_type": "display_data"
    }
   ],
   "source": [
    "from wordcloud import WordCloud\n",
    "import matplotlib.pyplot as plt\n",
    "wordcloud = WordCloud().generate(\" \".join(corpus))\n",
    "\n",
    "plt.figure()\n",
    "plt.imshow(wordcloud)\n",
    "plt.axis('off')\n",
    "plt.show()"
   ]
  },
  {
   "cell_type": "markdown",
   "metadata": {},
   "source": [
    "The generated graph shows us the most predominant words in our dataset as bigger than the rest."
   ]
  },
  {
   "cell_type": "markdown",
   "metadata": {},
   "source": [
    "# Two different approaches\n",
    "\n",
    "Next we have implemented two different ways in which the rest of the preprocessing can be achieved __BoW__ and __TF-IDF__.\n",
    "In order to test both approaches we ask you that you run the code blocks of either one or the other chapter and jump to the algorithm section.\n",
    "You can come back latter and try the other."
   ]
  },
  {
   "cell_type": "markdown",
   "metadata": {},
   "source": [
    "## Bag of Words\n",
    "\n",
    "The BoW algorithm starts by creating a matrix with a slot for every word in the dataset. It then counts, for each sentece, how many of those words it has. This allows it to compare how close 2 sentences are by how similar their matrix representations are."
   ]
  },
  {
   "cell_type": "code",
   "execution_count": 207,
   "metadata": {},
   "outputs": [
    {
     "name": "stdout",
     "output_type": "stream",
     "text": [
      "(2827, 5434)\n"
     ]
    }
   ],
   "source": [
    "from sklearn.feature_extraction.text import CountVectorizer\n",
    "\n",
    "vectorizer = CountVectorizer()\n",
    "X = vectorizer.fit_transform(corpus).toarray()\n",
    "testsetX = vectorizer.transform(test_corpus).toarray()\n",
    "\n",
    "print(X.shape)"
   ]
  },
  {
   "cell_type": "markdown",
   "metadata": {},
   "source": [
    "## TF-IDF\n",
    "\n",
    "This algorithm calculates 2 terms:\n",
    "\n",
    " - TF - that is the frequency in which a word appears in a document (a tweet in our case)\n",
    " - IDF - logarithm of the inverse of the frequency in which the word appears in the whole corpus (the collection of all documents)\n",
    " By multiplying these two terms you get the TF-IDF that gets you a value of the frequency of each word in different sentences but corrects for their overall frequency so that words like \"that\", \"of\" and such are not overrepresented."
   ]
  },
  {
   "cell_type": "code",
   "execution_count": 192,
   "metadata": {},
   "outputs": [
    {
     "name": "stdout",
     "output_type": "stream",
     "text": [
      "(2827, 5434)\n"
     ]
    }
   ],
   "source": [
    "\n",
    "from sklearn.feature_extraction.text import TfidfTransformer, TfidfVectorizer\n",
    "\n",
    "\n",
    "# tfidf = TfidfVectorizer(use_idf=True, stop_words='english')\n",
    "# tfidf_transformer = TfidfTransformer()\n",
    "# X_train = tfidf_transformer.fit_transform(X)\n",
    "# print(X_train)\n",
    "tfIdfTransformer = TfidfTransformer(use_idf=True)\n",
    "countVectorizer = CountVectorizer()\n",
    "# for the dataset\n",
    "wordCount = countVectorizer.fit_transform(corpus)\n",
    "X = tfIdfTransformer.fit_transform(wordCount)\n",
    "# for testset\n",
    "wordCount = countVectorizer.fit_transform(test_corpus)\n",
    "testsetX = tfIdfTransformer.fit_transform(wordCount)\n",
    "\n",
    "\n",
    "# tfVectorizer = CountVectorizer()\n",
    "# X = tfVectorizer.fit_transform(dataset['Statement'])\n",
    "print(X.shape)"
   ]
  },
  {
   "cell_type": "markdown",
   "metadata": {},
   "source": [
    "# Algorithms\n",
    "\n",
    "Now that we have a workable dataset we can experiment with some different algorithms to help us classify what type of emotion is associated with our test data.\n",
    "First lets separate our dataset into training and validation sets so that we can train our models. Latter we will try it against the test dataset and compare results.\n",
    "\n",
    "To do that start by running the code under __Dataset Distribution__ and similar to how we did in the __Preprocessing__ section run only the code blocks of an algorithm section at a time before going to __Performance Testing__.\n"
   ]
  },
  {
   "cell_type": "markdown",
   "metadata": {},
   "source": [
    "## Dataset Distribution"
   ]
  },
  {
   "cell_type": "code",
   "execution_count": 214,
   "metadata": {},
   "outputs": [],
   "source": [
    "y = dataset['Emotion']\n",
    "testset_y = testset['Emotion']\n",
    "X_train = X\n",
    "X_test = testsetX\n",
    "y_train = y\n",
    "y_test = testset_y\n",
    "# from sklearn.model_selection import train_test_split\n",
    "# y = dataset['Emotion']\n",
    "\n",
    "# X_train, X_test, y_train, y_test = train_test_split(X, y, test_size = 0.20)\n",
    "\n",
    "# print(X_train.shape, y_train.shape)\n",
    "# print(X_test.shape, y_test.shape)\n",
    "\n",
    "# print(\"\\nLabel distribution in the training set:\")\n",
    "# print(y_train.value_counts())\n",
    "\n",
    "# print(\"\\nLabel distribution in the test set:\")\n",
    "# print(y_test.value_counts())"
   ]
  },
  {
   "cell_type": "markdown",
   "metadata": {},
   "source": [
    "## Naïve Bayes\n",
    "\n",
    "TODO - describe bayes algorithm"
   ]
  },
  {
   "cell_type": "code",
   "execution_count": 215,
   "metadata": {},
   "outputs": [
    {
     "name": "stdout",
     "output_type": "stream",
     "text": [
      "[[155  10   6]\n",
      " [ 11 158  15]\n",
      " [  4   2 333]]\n",
      "Precision :  [0.91176471 0.92941176 0.94067797]\n",
      "Recall Score :  [0.90643275 0.85869565 0.98230088]\n",
      "Accuracy Score :  0.930835734870317\n",
      "F1 Score :  [0.90909091 0.89265537 0.96103896]\n"
     ]
    }
   ],
   "source": [
    "# Import Nayve Bayes model\n",
    "from sklearn.naive_bayes import MultinomialNB\n",
    "\n",
    "# Create Nayve Bayes Model\n",
    "clf = MultinomialNB()\n",
    "\n",
    "# Train the model using the training sets\n",
    "clf.fit(X_train, y_train)\n",
    "\n",
    "# Predict the response for test dataset\n",
    "y_pred = clf.predict(X_test)\n",
    "print(confusion_matrix(y_test, y_pred))\n",
    "\n",
    "# accuracy, precision, recall, f1\n",
    "print(\"Precision : \" ,precision_score(y_test, y_pred, average=None))\n",
    "print(\"Recall Score : \", recall_score(y_test,y_pred, average=None))\n",
    "print(\"Accuracy Score : \", accuracy_score(y_test,y_pred))\n",
    "print(\"F1 Score : \", f1_score(y_test,y_pred, average=None))"
   ]
  },
  {
   "cell_type": "markdown",
   "metadata": {},
   "source": [
    "## Support Vector Machine (SVM)\n",
    "\n",
    "TODO - describe svm algorithm"
   ]
  },
  {
   "cell_type": "code",
   "execution_count": 167,
   "metadata": {},
   "outputs": [
    {
     "name": "stdout",
     "output_type": "stream",
     "text": [
      "[[142  21   5]\n",
      " [  9 225   4]\n",
      " [  5  16 139]]\n",
      "Precision :  [0.91025641 0.85877863 0.93918919]\n",
      "Recall Score :  [0.8452381  0.94537815 0.86875   ]\n",
      "Accuracy Score :  0.8939929328621908\n",
      "F1 Score :  [0.87654321 0.9        0.9025974 ]\n"
     ]
    }
   ],
   "source": [
    "# Import svm model\n",
    "from sklearn import svm\n",
    "\n",
    "# Create a svm Classifier\n",
    "clf = svm.SVC(kernel='linear', probability=True) # Linear Kernel\n",
    "\n",
    "# Train the model using the training sets\n",
    "clf.fit(X_train, y_train)\n",
    "\n",
    "# Predict the response for test dataset\n",
    "y_pred = clf.predict(X_test)\n",
    "print(confusion_matrix(y_test, y_pred))\n",
    "\n",
    "\n",
    "print(\"Precision : \" ,precision_score(y_test, y_pred, average=None))\n",
    "print(\"Recall Score : \", recall_score(y_test,y_pred, average=None))\n",
    "print(\"Accuracy Score : \", accuracy_score(y_test,y_pred))\n",
    "print(\"F1 Score : \", f1_score(y_test,y_pred, average=None))"
   ]
  },
  {
   "cell_type": "markdown",
   "metadata": {},
   "source": [
    "## Random Forest\n",
    "\n",
    "TODO - describe neural networkalgorithm"
   ]
  },
  {
   "cell_type": "code",
   "execution_count": 200,
   "metadata": {},
   "outputs": [
    {
     "name": "stdout",
     "output_type": "stream",
     "text": [
      "[[134  28   4]\n",
      " [  8 220   4]\n",
      " [  2  24 142]]\n",
      "Precision :  [0.93055556 0.80882353 0.94666667]\n",
      "Recall Score :  [0.80722892 0.94827586 0.8452381 ]\n",
      "Accuracy Score :  0.8763250883392226\n",
      "F1 Score :  [0.86451613 0.87301587 0.89308176]\n"
     ]
    }
   ],
   "source": [
    "# Import Random Forest model\n",
    "from sklearn.ensemble import RandomForestClassifier\n",
    "\n",
    "# Create a Random Forest Classifier\n",
    "clf = RandomForestClassifier(n_estimators=100, criterion='entropy', n_jobs=-1)\n",
    "\n",
    "# Train the model using the training sets\n",
    "clf.fit(X_train, y_train)\n",
    "\n",
    "# Predict the response for test dataset\n",
    "y_pred = clf.predict(X_test)\n",
    "print(confusion_matrix(y_test, y_pred))\n",
    "\n",
    "print(\"Precision : \" ,precision_score(y_test, y_pred, average=None))\n",
    "print(\"Recall Score : \", recall_score(y_test,y_pred, average=None))\n",
    "print(\"Accuracy Score : \", accuracy_score(y_test,y_pred))\n",
    "print(\"F1 Score : \", f1_score(y_test,y_pred, average=None))"
   ]
  },
  {
   "cell_type": "markdown",
   "metadata": {},
   "source": [
    "## KNN\n",
    "\n",
    "TODO - describe neural networkalgorithm"
   ]
  },
  {
   "cell_type": "code",
   "execution_count": 208,
   "metadata": {},
   "outputs": [
    {
     "name": "stdout",
     "output_type": "stream",
     "text": [
      "[[129  22  15]\n",
      " [ 22 202   8]\n",
      " [ 27  23 118]]\n",
      "Precision :  [0.7247191  0.81781377 0.83687943]\n",
      "Recall Score :  [0.77710843 0.87068966 0.70238095]\n",
      "Accuracy Score :  0.7932862190812721\n",
      "F1 Score :  [0.75       0.8434238  0.76375405]\n"
     ]
    }
   ],
   "source": [
    "# Import KNN model\n",
    "from sklearn.neighbors import KNeighborsClassifier\n",
    "\n",
    "# Create a KNN Classifier\n",
    "clf = KNeighborsClassifier(n_neighbors=10,weights='distance')\n",
    "\n",
    "# Train the model using the training sets\n",
    "clf.fit(X_train, y_train)\n",
    "\n",
    "# Predict the response for test dataset\n",
    "y_pred = clf.predict(X_test)\n",
    "print(confusion_matrix(y_test, y_pred))\n",
    "\n",
    "print(\"Precision : \" ,precision_score(y_test, y_pred, average=None))\n",
    "print(\"Recall Score : \", recall_score(y_test,y_pred, average=None))\n",
    "print(\"Accuracy Score : \", accuracy_score(y_test,y_pred))\n",
    "print(\"F1 Score : \", f1_score(y_test,y_pred, average=None))"
   ]
  },
  {
   "cell_type": "markdown",
   "metadata": {},
   "source": [
    "# Performance Testing"
   ]
  },
  {
   "cell_type": "markdown",
   "metadata": {},
   "source": [
    "TODO - add performance testing for test_dataset"
   ]
  },
  {
   "cell_type": "code",
   "execution_count": 213,
   "metadata": {},
   "outputs": [
    {
     "name": "stdout",
     "output_type": "stream",
     "text": [
      "[[155  10   6]\n",
      " [ 11 158  15]\n",
      " [  4   2 333]]\n",
      "Precision :  [0.91176471 0.92941176 0.94067797]\n",
      "Recall Score :  [0.90643275 0.85869565 0.98230088]\n",
      "Accuracy Score :  0.930835734870317\n",
      "F1 Score :  [0.90909091 0.89265537 0.96103896]\n"
     ]
    }
   ],
   "source": [
    "# TODO test_dataset\n",
    "y = dataset['Emotion']\n",
    "testset_y = testset['Emotion']\n",
    "\n",
    "\n",
    "# Train the model using the training sets\n",
    "clf.fit(X, y)\n",
    "\n",
    "# Predict the response for test dataset\n",
    "y_pred = clf.predict(testsetX)\n",
    "print(confusion_matrix(testset_y, y_pred))\n",
    "print(\"Precision : \" ,precision_score(testset_y, y_pred, average=None))\n",
    "print(\"Recall Score : \", recall_score(testset_y,y_pred, average=None))\n",
    "print(\"Accuracy Score : \", accuracy_score(testset_y,y_pred))\n",
    "print(\"F1 Score : \", f1_score(testset_y,y_pred, average=None))"
   ]
  },
  {
   "cell_type": "markdown",
   "metadata": {},
   "source": [
    "If you want to play a bit with the model that you just executed, the following code lets you introduce a new sentence that the model will try to predict the associated emotion."
   ]
  },
  {
   "cell_type": "code",
   "execution_count": null,
   "metadata": {},
   "outputs": [],
   "source": [
    "import os\n",
    "\n",
    "rev = input(\"Enter tweet: \")\n",
    "\n",
    "# vectorize the review\n",
    "V = vectorizer.transform([rev]).toarray()\n",
    "\n",
    "print(rev)\n",
    "print(V.shape)\n",
    "print(V)\n",
    "\n",
    "print(\"Review : \", clf.predict(V))\n"
   ]
  },
  {
   "cell_type": "code",
   "execution_count": null,
   "metadata": {},
   "outputs": [],
   "source": []
  }
 ],
 "metadata": {
  "interpreter": {
   "hash": "c1d0472d3198ab94e0ab9989f3b6f77f44d12aad06f945a718874413a6bcc5c1"
  },
  "kernelspec": {
   "display_name": "Python 3.10.4 ('FEUP-IA_NLP')",
   "language": "python",
   "name": "python3"
  },
  "language_info": {
   "codemirror_mode": {
    "name": "ipython",
    "version": 3
   },
   "file_extension": ".py",
   "mimetype": "text/x-python",
   "name": "python",
   "nbconvert_exporter": "python",
   "pygments_lexer": "ipython3",
   "version": "3.10.4"
  }
 },
 "nbformat": 4,
 "nbformat_minor": 4
}
