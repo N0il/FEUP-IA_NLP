{
 "cells": [
  {
   "cell_type": "markdown",
   "metadata": {},
   "source": [
    "# Introduction\n",
    "\n",
    "In this project we were given a dataset consisting of statements and their emotions, our goal is to use different classifiers and prepreocessing methods from NLP to create models that are able to predict the emotions associated to the sentences."
   ]
  },
  {
   "cell_type": "markdown",
   "metadata": {},
   "source": [
    "## Importing the Dataset\n",
    "\n",
    "We are importing our data from the 'res' directory where the Emotions.csv and Testingdata.csv are located.\n",
    "\n",
    "They are a collection of frases similar to \"tweets\" and have been classified according to their associated emotion (\"joy\", \"fear\" or \"anger\")."
   ]
  },
  {
   "cell_type": "code",
   "execution_count": 1,
   "metadata": {},
   "outputs": [
    {
     "data": {
      "text/html": [
       "<div>\n",
       "<style scoped>\n",
       "    .dataframe tbody tr th:only-of-type {\n",
       "        vertical-align: middle;\n",
       "    }\n",
       "\n",
       "    .dataframe tbody tr th {\n",
       "        vertical-align: top;\n",
       "    }\n",
       "\n",
       "    .dataframe thead th {\n",
       "        text-align: right;\n",
       "    }\n",
       "</style>\n",
       "<table border=\"1\" class=\"dataframe\">\n",
       "  <thead>\n",
       "    <tr style=\"text-align: right;\">\n",
       "      <th></th>\n",
       "      <th>Statement</th>\n",
       "      <th>Emotion</th>\n",
       "    </tr>\n",
       "  </thead>\n",
       "  <tbody>\n",
       "    <tr>\n",
       "      <th>0</th>\n",
       "      <td>How the fu*k! Who the heck! moved my fridge!.....</td>\n",
       "      <td>anger</td>\n",
       "    </tr>\n",
       "    <tr>\n",
       "      <th>1</th>\n",
       "      <td>So my Indian Uber driver just called someone t...</td>\n",
       "      <td>anger</td>\n",
       "    </tr>\n",
       "    <tr>\n",
       "      <th>2</th>\n",
       "      <td>I asked for my parcel to be delivered to a pic...</td>\n",
       "      <td>anger</td>\n",
       "    </tr>\n",
       "    <tr>\n",
       "      <th>3</th>\n",
       "      <td>so ef whichever butt wipe pulled the fire alar...</td>\n",
       "      <td>anger</td>\n",
       "    </tr>\n",
       "    <tr>\n",
       "      <th>4</th>\n",
       "      <td>Don't join they put the phone down on you, tal...</td>\n",
       "      <td>anger</td>\n",
       "    </tr>\n",
       "  </tbody>\n",
       "</table>\n",
       "</div>"
      ],
      "text/plain": [
       "                                           Statement Emotion\n",
       "0  How the fu*k! Who the heck! moved my fridge!.....   anger\n",
       "1  So my Indian Uber driver just called someone t...   anger\n",
       "2  I asked for my parcel to be delivered to a pic...   anger\n",
       "3  so ef whichever butt wipe pulled the fire alar...   anger\n",
       "4  Don't join they put the phone down on you, tal...   anger"
      ]
     },
     "execution_count": 1,
     "metadata": {},
     "output_type": "execute_result"
    }
   ],
   "source": [
    "from sklearn.metrics import confusion_matrix\n",
    "from sklearn.metrics import accuracy_score\n",
    "from sklearn.metrics import precision_score\n",
    "from sklearn.metrics import recall_score\n",
    "from sklearn.metrics import f1_score\n",
    "import pandas as pd\n",
    "data_set_path = \"../res/Emotions.csv\"\n",
    "testing_set_path = \"../res/Testingdata.csv\"\n",
    "dataset = pd.read_csv(data_set_path, header=0, sep=\",\", names=[\"Statement\", \"Emotion\"], encoding='cp1252')\n",
    "testset = pd.read_csv(testing_set_path, header=0, sep=\",\", names=[\"Statement\", \"Emotion\"], encoding='cp1252')\n",
    "dataset.head()"
   ]
  },
  {
   "cell_type": "markdown",
   "metadata": {},
   "source": [
    "The last code block should show the first entries of the training dataset that we got from importing Emotions.csv.\n",
    "\n",
    "The following line of code displays some details obout the dataset we just imported."
   ]
  },
  {
   "cell_type": "code",
   "execution_count": 2,
   "metadata": {},
   "outputs": [
    {
     "data": {
      "text/html": [
       "<div>\n",
       "<style scoped>\n",
       "    .dataframe tbody tr th:only-of-type {\n",
       "        vertical-align: middle;\n",
       "    }\n",
       "\n",
       "    .dataframe tbody tr th {\n",
       "        vertical-align: top;\n",
       "    }\n",
       "\n",
       "    .dataframe thead th {\n",
       "        text-align: right;\n",
       "    }\n",
       "</style>\n",
       "<table border=\"1\" class=\"dataframe\">\n",
       "  <thead>\n",
       "    <tr style=\"text-align: right;\">\n",
       "      <th></th>\n",
       "      <th>Statement</th>\n",
       "      <th>Emotion</th>\n",
       "    </tr>\n",
       "  </thead>\n",
       "  <tbody>\n",
       "    <tr>\n",
       "      <th>count</th>\n",
       "      <td>2827</td>\n",
       "      <td>2827</td>\n",
       "    </tr>\n",
       "    <tr>\n",
       "      <th>unique</th>\n",
       "      <td>2772</td>\n",
       "      <td>3</td>\n",
       "    </tr>\n",
       "    <tr>\n",
       "      <th>top</th>\n",
       "      <td>Watch this amazing live.ly broadcast by #music...</td>\n",
       "      <td>fear</td>\n",
       "    </tr>\n",
       "    <tr>\n",
       "      <th>freq</th>\n",
       "      <td>26</td>\n",
       "      <td>1147</td>\n",
       "    </tr>\n",
       "  </tbody>\n",
       "</table>\n",
       "</div>"
      ],
      "text/plain": [
       "                                                Statement Emotion\n",
       "count                                                2827    2827\n",
       "unique                                               2772       3\n",
       "top     Watch this amazing live.ly broadcast by #music...    fear\n",
       "freq                                                   26    1147"
      ]
     },
     "execution_count": 2,
     "metadata": {},
     "output_type": "execute_result"
    }
   ],
   "source": [
    "dataset.describe()"
   ]
  },
  {
   "cell_type": "markdown",
   "metadata": {},
   "source": [
    "# Preprocessing\n",
    "\n",
    "To solve this NLP problem we will employ some stages of preprocessing on our data, namely Steaming and Tokenization.\n",
    "We then choose between two major preprocessing algorithms that we expect may give different results: BoW (Bag of Words) and TF-IDF (Term Frequency - Inverse Document Frequency)\n"
   ]
  },
  {
   "cell_type": "markdown",
   "metadata": {},
   "source": [
    "### Steaming and Tokenization\n",
    "\n",
    "In order to ease the amount of processing the program must do we can apply some transformations to the text such as removing punctuation and other symbols, turn it all to lowercase, separating the text into tokens (separate by words), and removing stopwords (such as \"the\", \"a\", etc.)."
   ]
  },
  {
   "cell_type": "code",
   "execution_count": 4,
   "metadata": {},
   "outputs": [],
   "source": [
    "import re\n",
    "from nltk.corpus import stopwords\n",
    "from nltk.stem.porter import PorterStemmer\n",
    "\n",
    "def preProcessing(data):\n",
    "    res = []\n",
    "    ps = PorterStemmer()\n",
    "    for i in range(0, data['Statement'].size):\n",
    "        # get review and remove non alpha chars\n",
    "        review = re.sub('[^a-zA-Z]', ' ', data['Statement'][i])\n",
    "        # to lower-case\n",
    "        review = review.lower()\n",
    "        # split into tokens, apply stemming and remove stop words\n",
    "        review = ' '.join([ps.stem(w) for w in review.split() if not w in set(stopwords.words('english'))])\n",
    "        res.append(review)\n",
    "    return res\n",
    "\n",
    "\n",
    "corpus = preProcessing(dataset)\n",
    "test_corpus = preProcessing(testset)\n"
   ]
  },
  {
   "cell_type": "markdown",
   "metadata": {},
   "source": [
    "The following code shows us a visual representation of the frequency in which each word appears in the dataset."
   ]
  },
  {
   "cell_type": "code",
   "execution_count": 5,
   "metadata": {},
   "outputs": [
    {
     "data": {
      "image/png": "[encoded data removed]",
      "text/plain": [
       "<Figure size 432x288 with 1 Axes>"
      ]
     },
     "metadata": {
      "needs_background": "light"
     },
     "output_type": "display_data"
    }
   ],
   "source": [
    "from wordcloud import WordCloud\n",
    "import matplotlib.pyplot as plt\n",
    "wordcloud = WordCloud().generate(\" \".join(corpus))\n",
    "\n",
    "plt.figure()\n",
    "plt.imshow(wordcloud)\n",
    "plt.axis('off')\n",
    "plt.show()"
   ]
  },
  {
   "cell_type": "markdown",
   "metadata": {},
   "source": [
    "# Two different approaches\n",
    "\n",
    "We have implemented two different ways in which the rest of the preprocessing can be achieved: __BoW__ and __TF-IDF__.\n",
    "In order to test both approaches run the code of one of the chapters and jump to the __Algorithm__ section.\n",
    "You can come back latter and try the other."
   ]
  },
  {
   "cell_type": "markdown",
   "metadata": {},
   "source": [
    "## Bag of Words\n",
    "\n",
    "The BoW algorithm starts by creating a matrix with a slot for every word in the dataset. It then counts, for each document, how many of those words it has. This allows it to compare how close 2 documents are by how similar their matrix representations are."
   ]
  },
  {
   "cell_type": "code",
   "execution_count": 104,
   "metadata": {},
   "outputs": [
    {
     "name": "stdout",
     "output_type": "stream",
     "text": [
      "(2827, 5434)\n"
     ]
    }
   ],
   "source": [
    "from sklearn.feature_extraction.text import CountVectorizer\n",
    "\n",
    "vectorizer = CountVectorizer()\n",
    "X = vectorizer.fit_transform(corpus).toarray()\n",
    "testsetX = vectorizer.transform(test_corpus).toarray()\n",
    "\n",
    "X_train = X\n",
    "X_test = testsetX\n",
    "y_train = dataset['Emotion']\n",
    "y_test = testset['Emotion']\n",
    "print(X.shape)"
   ]
  },
  {
   "cell_type": "markdown",
   "metadata": {},
   "source": [
    "## TF-IDF\n",
    "\n",
    "This algorithm calculates 2 terms:\n",
    "\n",
    " - TF - that is the frequency in which a word appears in a document (a tweet in our case)\n",
    " - IDF - logarithm of the inverse of the frequency in which the word appears in the whole corpus (the collection of all documents)\n",
    " \n",
    " By multiplying these two terms you get the TF-IDF, that gets you a value of the frequency of each word in different sentences, but corrects for their overall frequency so that common words (such as \"that\", \"and\", \"my\", etc.) are not overrepresented."
   ]
  },
  {
   "cell_type": "code",
   "execution_count": 105,
   "metadata": {},
   "outputs": [
    {
     "name": "stdout",
     "output_type": "stream",
     "text": [
      "(2827, 5434)\n"
     ]
    }
   ],
   "source": [
    "\n",
    "from sklearn.feature_extraction.text import TfidfTransformer, TfidfVectorizer\n",
    "\n",
    "tfIdfTransformer = TfidfTransformer(use_idf=True)\n",
    "countVectorizer = CountVectorizer()\n",
    "# for the dataset\n",
    "wordCount = countVectorizer.fit_transform(corpus)\n",
    "X = tfIdfTransformer.fit_transform(wordCount)\n",
    "# for testset\n",
    "wordCount = countVectorizer.transform(test_corpus)\n",
    "testsetX = tfIdfTransformer.transform(wordCount)\n",
    "\n",
    "X_train = X\n",
    "X_test = testsetX\n",
    "y_train = dataset['Emotion']\n",
    "y_test = testset['Emotion']\n",
    "print(X.shape)"
   ]
  },
  {
   "cell_type": "markdown",
   "metadata": {},
   "source": [
    "# Algorithms\n",
    "\n",
    "Now that we have a workable dataset we can experiment with some different algorithms to help us classify what type of emotion is associated with our test data.\n",
    "We can then test the model's predictions against the test data and compare results."
   ]
  },
  {
   "cell_type": "markdown",
   "metadata": {},
   "source": [
    "## Naïve Bayes\n",
    "\n",
    "As its name suggests, this algorithm takes advantage of the Bayes's Theorem in probability theory.\n",
    "\n",
    "We use a specific instance of the algorithm, the Multinomial Naive Bayes, where the P follows a multinomial distribution."
   ]
  },
  {
   "cell_type": "code",
   "execution_count": 69,
   "metadata": {},
   "outputs": [
    {
     "name": "stdout",
     "output_type": "stream",
     "text": [
      "[[148  19   4]\n",
      " [  4 174   6]\n",
      " [  2   6 331]]\n",
      "Precision :  [0.96103896 0.87437186 0.97067449]\n",
      "Recall Score :  [0.86549708 0.94565217 0.97640118]\n",
      "Accuracy Score :  0.9409221902017291\n",
      "F1 Score :  [0.91076923 0.90861619 0.97352941]\n"
     ]
    }
   ],
   "source": [
    "# Import Nayve Bayes model\n",
    "from sklearn.naive_bayes import MultinomialNB\n",
    "\n",
    "# Create Nayve Bayes Model\n",
    "clf = MultinomialNB()\n",
    "\n",
    "# Train the model using the training sets\n",
    "clf.fit(X_train, y_train)\n",
    "\n",
    "# Predict the response for test dataset\n",
    "y_pred = clf.predict(X_test)\n",
    "print(confusion_matrix(y_test, y_pred))\n",
    "\n",
    "# accuracy, precision, recall, f1\n",
    "print(\"Precision : \" ,precision_score(y_test, y_pred, average=None))\n",
    "print(\"Recall Score : \", recall_score(y_test,y_pred, average=None))\n",
    "print(\"Accuracy Score : \", accuracy_score(y_test,y_pred))\n",
    "print(\"F1 Score : \", f1_score(y_test,y_pred, average=None))"
   ]
  },
  {
   "cell_type": "markdown",
   "metadata": {},
   "source": [
    "## Support Vector Machine (SVM)\n",
    "\n",
    "In this algorithm, each data item is represented as a point in a n-dimensional space, where the coordinates are the value of the features.\n",
    "\n",
    "The model returns the result for a given input by creating a Hyperplane in space, that differentiates the various types of labels.\n",
    "\n",
    "The goal of SVM is maximizing the distance between the nearest data points and the hyper-plane (Margin)."
   ]
  },
  {
   "cell_type": "code",
   "execution_count": 60,
   "metadata": {},
   "outputs": [
    {
     "name": "stdout",
     "output_type": "stream",
     "text": [
      "[[163   3   5]\n",
      " [ 13 167   4]\n",
      " [  0   0 339]]\n",
      "Precision :  [0.92613636 0.98235294 0.97413793]\n",
      "Recall Score :  [0.95321637 0.9076087  1.        ]\n",
      "Accuracy Score :  0.9639769452449568\n",
      "F1 Score :  [0.93948127 0.94350282 0.98689956]\n"
     ]
    }
   ],
   "source": [
    "# Import svm model\n",
    "from sklearn import svm\n",
    "\n",
    "# Create a svm Classifier\n",
    "clf = svm.SVC(kernel='linear', probability=True, C=10) # Linear Kernel\n",
    "\n",
    "# Train the model using the training sets\n",
    "clf.fit(X_train, y_train)\n",
    "\n",
    "# Predict the response for test dataset\n",
    "y_pred = clf.predict(X_test)\n",
    "print(confusion_matrix(y_test, y_pred))\n",
    "\n",
    "\n",
    "print(\"Precision : \" ,precision_score(y_test, y_pred, average=None))\n",
    "print(\"Recall Score : \", recall_score(y_test,y_pred, average=None))\n",
    "print(\"Accuracy Score : \", accuracy_score(y_test,y_pred))\n",
    "print(\"F1 Score : \", f1_score(y_test,y_pred, average=None))"
   ]
  },
  {
   "cell_type": "markdown",
   "metadata": {},
   "source": [
    "## Random Forest\n",
    "\n",
    "This classifier combines, through majority voting, the results of different decision trees classifiers, on various sub samples and features of the dataset."
   ]
  },
  {
   "cell_type": "code",
   "execution_count": 102,
   "metadata": {},
   "outputs": [
    {
     "name": "stdout",
     "output_type": "stream",
     "text": [
      "[[157  10   4]\n",
      " [  5 176   3]\n",
      " [  0   0 339]]\n",
      "Precision :  [0.9691358  0.94623656 0.97976879]\n",
      "Recall Score :  [0.91812865 0.95652174 1.        ]\n",
      "Accuracy Score :  0.968299711815562\n",
      "F1 Score :  [0.94294294 0.95135135 0.98978102]\n"
     ]
    }
   ],
   "source": [
    "# Import Random Forest model\n",
    "from sklearn.ensemble import RandomForestClassifier\n",
    "\n",
    "# Create a Random Forest Classifier\n",
    "clf = RandomForestClassifier(n_estimators=100, criterion='entropy', n_jobs=-1)\n",
    "\n",
    "# Train the model using the training sets\n",
    "clf.fit(X_train, y_train)\n",
    "\n",
    "# Predict the response for test dataset\n",
    "y_pred = clf.predict(X_test)\n",
    "print(confusion_matrix(y_test, y_pred))\n",
    "\n",
    "print(\"Precision : \" ,precision_score(y_test, y_pred, average=None))\n",
    "print(\"Recall Score : \", recall_score(y_test,y_pred, average=None))\n",
    "print(\"Accuracy Score : \", accuracy_score(y_test,y_pred))\n",
    "print(\"F1 Score : \", f1_score(y_test,y_pred, average=None))"
   ]
  },
  {
   "cell_type": "markdown",
   "metadata": {},
   "source": [
    "## KNN\n",
    "\n",
    "This classification algorithm uses proximity to make predictions about the grouping of data points.\n",
    "\n",
    "It finds the K nearest neighbours of a data point and assigns it the most common value in its neighbourhood."
   ]
  },
  {
   "cell_type": "code",
   "execution_count": 100,
   "metadata": {},
   "outputs": [
    {
     "name": "stdout",
     "output_type": "stream",
     "text": [
      "[[147  11  13]\n",
      " [ 17 153  14]\n",
      " [  0   0 339]]\n",
      "Precision :  [0.89634146 0.93292683 0.92622951]\n",
      "Recall Score :  [0.85964912 0.83152174 1.        ]\n",
      "Accuracy Score :  0.920749279538905\n",
      "F1 Score :  [0.87761194 0.87931034 0.96170213]\n"
     ]
    }
   ],
   "source": [
    "# Import KNN model\n",
    "from sklearn.neighbors import KNeighborsClassifier\n",
    "\n",
    "# Create a KNN Classifier\n",
    "clf = KNeighborsClassifier(n_neighbors=40,weights='distance')\n",
    "\n",
    "# Train the model using the training sets\n",
    "clf.fit(X_train, y_train)\n",
    "\n",
    "# Predict the response for test dataset\n",
    "y_pred = clf.predict(X_test)\n",
    "print(confusion_matrix(y_test, y_pred))\n",
    "\n",
    "print(\"Precision : \" ,precision_score(y_test, y_pred, average=None))\n",
    "print(\"Recall Score : \", recall_score(y_test,y_pred, average=None))\n",
    "print(\"Accuracy Score : \", accuracy_score(y_test,y_pred))\n",
    "print(\"F1 Score : \", f1_score(y_test,y_pred, average=None))"
   ]
  },
  {
   "cell_type": "markdown",
   "metadata": {},
   "source": [
    "# Input Testing"
   ]
  },
  {
   "cell_type": "markdown",
   "metadata": {},
   "source": [
    "If you want to play a bit with the models, the following code lets you input a new sentence that the model will try to predict the associated emotion."
   ]
  },
  {
   "cell_type": "code",
   "execution_count": null,
   "metadata": {},
   "outputs": [],
   "source": [
    "import os\n",
    "\n",
    "rev = input(\"Enter tweet: \")\n",
    "\n",
    "# vectorize the review\n",
    "V = vectorizer.transform([rev]).toarray()\n",
    "\n",
    "print(rev)\n",
    "print(V.shape)\n",
    "print(V)\n",
    "\n",
    "print(\"Review : \", clf.predict(V))\n"
   ]
  }
 ],
 "metadata": {
  "interpreter": {
   "hash": "c1d0472d3198ab94e0ab9989f3b6f77f44d12aad06f945a718874413a6bcc5c1"
  },
  "kernelspec": {
   "display_name": "Python 3.10.4 ('FEUP-IA_NLP')",
   "language": "python",
   "name": "python3"
  },
  "language_info": {
   "codemirror_mode": {
    "name": "ipython",
    "version": 3
   },
   "file_extension": ".py",
   "mimetype": "text/x-python",
   "name": "python",
   "nbconvert_exporter": "python",
   "pygments_lexer": "ipython3",
   "version": "3.10.4"
  }
 },
 "nbformat": 4,
 "nbformat_minor": 4
}
